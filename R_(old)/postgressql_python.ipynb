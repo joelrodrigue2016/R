{
 "cells": [
  {
   "cell_type": "code",
   "execution_count": 2,
   "metadata": {
    "collapsed": true
   },
   "outputs": [],
   "source": [
    "# # Using PostgreSQL in Python (with Psycopg2)\n",
    "#\n",
    "# ### Psycopg2\n",
    "#\n",
    "# A library that allows Python to connect to an existing PostgreSQL database to utilize SQL functionality.\n",
    "#\n",
    "# #### Documentation\n",
    "#  * http://initd.org/psycopg/docs/install.html\n",
    "# +\n",
    "password = 'Kingjames1611'\n",
    "import psycopg2 as pg2\n",
    "conn = pg2.connect(database = 'dvdrental', user= 'postgres',password = password )\n"
   ]
  },
  {
   "cell_type": "code",
   "execution_count": 3,
   "outputs": [],
   "source": [
    "cur = conn.cursor()\n"
   ],
   "metadata": {
    "collapsed": false,
    "pycharm": {
     "name": "#%%\n"
    }
   }
  },
  {
   "cell_type": "code",
   "execution_count": 4,
   "outputs": [],
   "source": [
    "cur.execute('select first_name,last_name FROM customer as c where exists (select * From payment as p Where p.customer_id = c.customer_id and amount >11);')\n",
    "data = cur.fetchmany(100)"
   ],
   "metadata": {
    "collapsed": false,
    "pycharm": {
     "name": "#%%\n"
    }
   }
  },
  {
   "cell_type": "code",
   "execution_count": 5,
   "outputs": [
    {
     "name": "stdout",
     "output_type": "stream",
     "text": [
      "[('Karen', 'Jackson'), ('Victoria', 'Gibson'), ('Vanessa', 'Sims'), ('Rosemary', 'Schmidt'), ('Tanya', 'Gilbert'), ('Nicholas', 'Barfield'), ('Kent', 'Arsenault'), ('Terrance', 'Roush')]\n"
     ]
    }
   ],
   "source": [
    "print(data)"
   ],
   "metadata": {
    "collapsed": false,
    "pycharm": {
     "name": "#%%\n"
    }
   }
  },
  {
   "cell_type": "code",
   "execution_count": 6,
   "outputs": [],
   "source": [
    "conn.close()\n"
   ],
   "metadata": {
    "collapsed": false,
    "pycharm": {
     "name": "#%%\n"
    }
   }
  }
 ],
 "metadata": {
  "kernelspec": {
   "display_name": "Python 3",
   "language": "python",
   "name": "python3"
  },
  "language_info": {
   "codemirror_mode": {
    "name": "ipython",
    "version": 2
   },
   "file_extension": ".py",
   "mimetype": "text/x-python",
   "name": "python",
   "nbconvert_exporter": "python",
   "pygments_lexer": "ipython2",
   "version": "2.7.6"
  }
 },
 "nbformat": 4,
 "nbformat_minor": 0
}